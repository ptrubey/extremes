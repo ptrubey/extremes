{
 "cells": [
  {
   "cell_type": "code",
   "execution_count": 1,
   "id": "bf59a52b",
   "metadata": {},
   "outputs": [],
   "source": [
    "import silence_tensorflow.auto\n",
    "import json\n",
    "import numpy as np\n",
    "import matplotlib.pyplot as plt\n",
    "import tensorflow as tf\n",
    "import tensorflow_probability as tfp\n",
    "from tensorflow_probability import distributions as tfd\n",
    "from tensorflow_probability import bijectors as tfb\n",
    "from numpy.random import gamma\n",
    "\n",
    "from tfprojgamma import ProjectedGamma\n",
    "# Set random seeds for reproducibility\n",
    "np.random.seed(1)\n",
    "tf.random.set_seed(1)"
   ]
  },
  {
   "cell_type": "code",
   "execution_count": 2,
   "id": "1032f363",
   "metadata": {},
   "outputs": [
    {
     "name": "stdout",
     "output_type": "stream",
     "text": [
      "[3.94761907 0.62279234 0.68411215 0.34912511 4.2482095 ]\n"
     ]
    }
   ],
   "source": [
    "# Set up shape parameters\n",
    "alpha_true = gamma(size = 5, shape = 1.5)\n",
    "print(alpha_true)\n",
    "# dist1 = ProjectedGamma(alpha_true, 10)\n",
    "# Yp    = dist1.sample(200)\n",
    "dist1 = tfd.Dirichlet(concentration = alpha_true)\n",
    "Yp = dist1.sample(200)"
   ]
  },
  {
   "cell_type": "code",
   "execution_count": 3,
   "id": "fd123399",
   "metadata": {},
   "outputs": [],
   "source": [
    "# prior shape parameters\n",
    "log_alpha_0 = tf.zeros(5, dtype = tf.float64)\n",
    "Sigma       = tf.eye(5, dtype = tf.float64)"
   ]
  },
  {
   "cell_type": "code",
   "execution_count": 4,
   "id": "c3954925",
   "metadata": {},
   "outputs": [],
   "source": [
    "# define generator\n",
    "def generative_model(log_alpha_0, n_samples):\n",
    "    log_alpha = yield tfd.JointDistributionCoroutine.Root(\n",
    "        tfd.MultivariateNormalDiag(\n",
    "            loc = log_alpha_0, scale = tf.ones(5, dtype = tf.float64), name = 'log_alpha'\n",
    "            ),\n",
    "        )\n",
    "    Yp = yield tfd.Sample(\n",
    "        # ProjectedGamma(concentration = tf.exp(log_alpha) * tf.ones((n_samples, 5), dtype = tf.float64)),\n",
    "        tfd.Dirichlet(concentration = tf.exp(log_alpha) * tf.ones((n_samples, 5), dtype = tf.float64)),\n",
    "        name = 'Yp',\n",
    "        )\n",
    "model_joint = tfd.JointDistributionCoroutineAutoBatched(\n",
    "    lambda: generative_model(log_alpha_0, 200),\n",
    "    )"
   ]
  },
  {
   "cell_type": "code",
   "execution_count": 5,
   "id": "14926f34",
   "metadata": {},
   "outputs": [],
   "source": [
    "model_joint_log_prob = lambda log_alpha: model_joint.log_prob(log_alpha, Yp)"
   ]
  },
  {
   "cell_type": "code",
   "execution_count": 7,
   "id": "a9490bdf",
   "metadata": {},
   "outputs": [],
   "source": [
    "precison_to_unconstrained = tfb.Chain([\n",
    "    # step 3: flatten the lower triangular portion of the matrix\n",
    "    tfb.Invert(tfb.FillTriangular(validate_args = True)),\n",
    "    # step 2: take the log of the diagonals    \n",
    "    tfb.TransformDiagonal(tfb.Invert(tfb.Exp(validate_args = True))),\n",
    "    # step 1: decompose the precision matrix into its Cholesky factors\n",
    "    tfb.Invert(tfb.CholeskyOuterProduct(validate_args = True)),\n",
    "    ])"
   ]
  },
  {
   "cell_type": "code",
   "execution_count": null,
   "id": "c3f7d9ac",
   "metadata": {},
   "outputs": [],
   "source": [
    "# New Style: Make the variational Parameters\n",
    "\n",
    "q_mu = tf.Variable(log_alpha_0, name = 'Mu Surrogate (mean of log alpha)')\n",
    "q_E  = tf.Variable(precision_to_unconstrained.forward\n",
    "\n"
   ]
  },
  {
   "cell_type": "code",
   "execution_count": null,
   "id": "fdeb78d8",
   "metadata": {},
   "outputs": [],
   "source": []
  },
  {
   "cell_type": "code",
   "execution_count": null,
   "id": "0a82dc28",
   "metadata": {},
   "outputs": [],
   "source": []
  },
  {
   "cell_type": "code",
   "execution_count": null,
   "id": "14a867e3",
   "metadata": {},
   "outputs": [],
   "source": []
  },
  {
   "cell_type": "code",
   "execution_count": null,
   "id": "98e5f9e9",
   "metadata": {},
   "outputs": [],
   "source": [
    "# Make the variational parameters\n",
    "q_log_alpha = tf.Variable(log_alpha_0, name = 'log Alpha (surrogate)')\n",
    "q_Sigma     = tf.Variable(Sigma, name = 'Sigma (surrogate)') # assume this is precision parameterized..."
   ]
  },
  {
   "cell_type": "code",
   "execution_count": null,
   "id": "4dd50160",
   "metadata": {},
   "outputs": [],
   "source": [
    "surrogate_posterior = tfd.MultivariateNormalFullCovariance(loc = q_log_alpha, covariance_matrix = q_Sigma)"
   ]
  },
  {
   "cell_type": "code",
   "execution_count": null,
   "id": "2c2a17b6",
   "metadata": {},
   "outputs": [],
   "source": [
    "with tf.GradientTape() as g:\n",
    "    samples = surrogate_posterior.sample(50)\n",
    "    neg_elbo = - tf.reduce_mean(model_joint_log_prob(samples) - surrogate_posterior.log_prob(samples))"
   ]
  },
  {
   "cell_type": "code",
   "execution_count": null,
   "id": "288197ef",
   "metadata": {},
   "outputs": [],
   "source": [
    "path = tfp.vi.fit_surrogate_posterior(\n",
    "    target_log_prob_fn = model_joint_log_prob,\n",
    "    surrogate_posterior = surrogate_posterior,\n",
    "    optimizer = tf.optimizers.Adam(.2),\n",
    "    num_steps = 1000,\n",
    "    sample_size = 500,\n",
    "    )"
   ]
  },
  {
   "cell_type": "code",
   "execution_count": null,
   "id": "a93dd035",
   "metadata": {
    "scrolled": false
   },
   "outputs": [],
   "source": [
    "g.gradient(neg_elbo, surrogate_posterior.trainable_variables)"
   ]
  },
  {
   "cell_type": "code",
   "execution_count": null,
   "id": "6808a39e",
   "metadata": {},
   "outputs": [],
   "source": []
  }
 ],
 "metadata": {
  "kernelspec": {
   "display_name": "Python 3 (ipykernel)",
   "language": "python",
   "name": "python3"
  },
  "language_info": {
   "codemirror_mode": {
    "name": "ipython",
    "version": 3
   },
   "file_extension": ".py",
   "mimetype": "text/x-python",
   "name": "python",
   "nbconvert_exporter": "python",
   "pygments_lexer": "ipython3",
   "version": "3.9.16"
  }
 },
 "nbformat": 4,
 "nbformat_minor": 5
}
