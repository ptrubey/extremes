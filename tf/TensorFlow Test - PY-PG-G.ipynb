{
 "cells": [
  {
   "cell_type": "markdown",
   "id": "34c3a4b8",
   "metadata": {},
   "source": [
    "## Goal: Variational Inference on parameters of Dirichlet distribution\n",
    "\n",
    "Model:\n",
    "$$\n",
    "\\begin{aligned}\n",
    "y_i &\\sim \\mathcal{PG}_p(Y\\mid\\alpha_i)\\\\\n",
    "\\alpha_i &\\sim G\\\\\n",
    "G &\\sim \\mathcal{PY}(\\eta, d, G_0)\\\\\n",
    "\\end{aligned}\n",
    "~\\hspace{1cm}~\n",
    "\\begin{aligned}\n",
    "G_0 &= \\prod_{\\ell = 1}^d\\mathcal{G}(\\alpha_{\\ell}\\mid\\xi,\\tau)\\\\\n",
    "\\xi &\\sim \\mathcal{G}(\\xi\\mid a, b)\\\\\n",
    "\\tau &\\sim \\mathcal{G}(\\tau\\mid c,d)\\\\\n",
    "\\end{aligned}\n",
    "$$"
   ]
  },
  {
   "cell_type": "code",
   "execution_count": 3,
   "id": "bf59a52b",
   "metadata": {},
   "outputs": [],
   "source": [
    "import silence_tensorflow.auto\n",
    "import json\n",
    "import numpy as np\n",
    "import matplotlib.pyplot as plt\n",
    "import tensorflow as tf\n",
    "import tensorflow_probability as tfp\n",
    "from tensorflow_probability import distributions as tfd\n",
    "from tensorflow_probability import bijectors as tfb\n",
    "from numpy.random import gamma\n",
    "\n",
    "from tfprojgamma import ProjectedGamma\n",
    "# Set random seeds for reproducibility\n",
    "np.random.seed(1)\n",
    "tf.random.set_seed(1)"
   ]
  },
  {
   "cell_type": "markdown",
   "id": "151d1dd9",
   "metadata": {},
   "source": [
    "*Declare Random Sample*"
   ]
  },
  {
   "cell_type": "code",
   "execution_count": 4,
   "id": "db51d954",
   "metadata": {},
   "outputs": [],
   "source": [
    "alpha_true = gamma(size = (3,5), shape = 1.5)\n",
    "pi_true = (0.3, 0.5, 0.2)\n",
    "\n",
    "MixProjectedGamma = tfp.distributions.MixtureSameFamily(\n",
    "    mixture_distribution = tfd.Categorical(\n",
    "        probs = pi_true,\n",
    "        ),\n",
    "    components_distribution = ProjectedGamma(\n",
    "        concentration = alpha_true,\n",
    "        )\n",
    "    )\n",
    "# print(alpha_true)\n",
    "# print(pi_true)\n",
    "Yp = tf.cast(MixProjectedGamma.sample(1000), tf.float64)"
   ]
  },
  {
   "cell_type": "markdown",
   "id": "0a5433e7",
   "metadata": {},
   "source": [
    "*Specifications*"
   ]
  },
  {
   "cell_type": "code",
   "execution_count": 5,
   "id": "06e6856f",
   "metadata": {},
   "outputs": [],
   "source": [
    "N, D = Yp.shape; J = 20 # N = nobs, D = ncols, J = nclust"
   ]
  },
  {
   "cell_type": "markdown",
   "id": "dc2c4bd8",
   "metadata": {},
   "source": [
    "*Prior Parameters*"
   ]
  },
  {
   "cell_type": "code",
   "execution_count": 6,
   "id": "fd123399",
   "metadata": {},
   "outputs": [],
   "source": [
    "a = 0.5; b = 0.5        # strength (inherently unstable)\n",
    "c = 2.0; d = 2.0        # rate (biased towards 1)\n",
    "eta, dis = 0.1, 0.1     # PY Strength / Discount Parameters"
   ]
  },
  {
   "cell_type": "markdown",
   "id": "8100c29c",
   "metadata": {},
   "source": [
    "*Define the Joint Distribution*"
   ]
  },
  {
   "cell_type": "code",
   "execution_count": 7,
   "id": "c3954925",
   "metadata": {},
   "outputs": [],
   "source": [
    "# Thanks to Dave Moore for extending this to work with batch dimensions!\n",
    "# This turns out to be necessary for ADVI to work properly.\n",
    "def stickbreak(v):\n",
    "    batch_ndims = len(v.shape) - 1\n",
    "    cumprod_one_minus_v = tf.math.cumprod(1 - v, axis=-1)\n",
    "    one_v = tf.pad(v, [[0, 0]] * batch_ndims + [[0, 1]], \"CONSTANT\", constant_values=1)\n",
    "    c_one = tf.pad(cumprod_one_minus_v, [[0, 0]] * batch_ndims + [[1, 0]], \"CONSTANT\", constant_values=1)\n",
    "    return one_v * c_one\n",
    "\n",
    "def create_model(N, D, J, eta, discount, dtype = np.float64):\n",
    "    \"\"\"\n",
    "    N : Number of observations\n",
    "    D : Number of columns\n",
    "    J : Truncation Point (Max Number of Clusters for Stick-Breaking)\n",
    "    eta, discount : Pitman Yor Parameters\n",
    "    \"\"\"\n",
    "    model = tfd.JointDistributionNamed(dict(\n",
    "        xi = tfd.Independent(\n",
    "            tfd.Gamma(\n",
    "                concentration = np.full(D, a, dtype),\n",
    "                rate = np.full(D, b, dtype),\n",
    "                ),\n",
    "            reinterpreted_batch_ndims = 1,\n",
    "            ),\n",
    "        tau = tfd.Independent(\n",
    "            tfd.Gamma(\n",
    "                concentration = np.full(D, c, dtype),\n",
    "                rate = np.full(D, d, dtype),\n",
    "                ),\n",
    "            reinterpreted_batch_ndims = 1,\n",
    "            ),\n",
    "        nu = tfd.Independent(\n",
    "            tfd.Beta(np.ones(J - 1, dtype) - discount, eta + np.arange(1, J) * discount),\n",
    "            reinterpreted_batch_ndims = 1,\n",
    "            ),\n",
    "        alpha = lambda xi, tau: tfd.Independent(\n",
    "            tfd.Gamma(\n",
    "                concentration = np.ones((J, D), dtype) * tf.expand_dims(xi, -2),\n",
    "                rate = np.ones((J, D), dtype) * tf.expand_dims(tau, -2),\n",
    "                ),\n",
    "            reinterpreted_batch_ndims = 2,\n",
    "            ),        \n",
    "        obs = lambda alpha, nu: tfd.Sample(\n",
    "            tfd.MixtureSameFamily(\n",
    "                mixture_distribution = tfd.Categorical(probs = stickbreak(nu)),\n",
    "                components_distribution = ProjectedGamma(alpha, np.ones((J, D), dtype)),\n",
    "                ),\n",
    "            sample_shape = (N),\n",
    "            ),\n",
    "        ))\n",
    "    return(model)\n"
   ]
  },
  {
   "cell_type": "markdown",
   "id": "87dd408e",
   "metadata": {},
   "source": [
    "**Verifying the structure of the joint model**"
   ]
  },
  {
   "cell_type": "code",
   "execution_count": 8,
   "id": "f8caffad",
   "metadata": {
    "scrolled": false
   },
   "outputs": [
    {
     "data": {
      "text/plain": [
       "<tfp.distributions.JointDistributionNamed 'JointDistributionNamed' batch_shape={alpha: [], nu: [], obs: [], tau: [], xi: []} event_shape={alpha: [20, 5], nu: [19], obs: [1000, 5], tau: [5], xi: [5]} dtype={alpha: float64, nu: float64, obs: float64, tau: float64, xi: float64}>"
      ]
     },
     "execution_count": 8,
     "metadata": {},
     "output_type": "execute_result"
    }
   ],
   "source": [
    "model_joint = create_model(N, D, J, eta, dis)\n",
    "_ = model_joint.sample()\n",
    "model_joint"
   ]
  },
  {
   "cell_type": "code",
   "execution_count": 9,
   "id": "f3aeb656",
   "metadata": {},
   "outputs": [],
   "source": [
    "def target_log_prob_fn(xi, tau, nu, alpha):\n",
    "    return model_joint.log_prob(xi = xi, tau = tau, nu = nu, alpha = alpha, obs = Yp)\n"
   ]
  },
  {
   "cell_type": "markdown",
   "id": "e02ee739",
   "metadata": {},
   "source": [
    "## Mean Field Variational Bayes\n",
    "\n",
    "$$\n",
    "\\begin{aligned}\n",
    "\\nu_j &\\sim \\text{LogitN}(\\mu_{\\nu_j}, \\sigma_{\\nu_j})\\\\\n",
    "\\log\\alpha_{j\\ell} &\\sim \\text{Normal}(\\mu_{\\alpha_{j\\ell}},\\sigma_{\\alpha_{j\\ell}})\n",
    "\\end{aligned}\n",
    "~\\hspace{1cm}\n",
    "\\begin{aligned}\n",
    "\\log\\xi_{\\ell} &\\sim \\mathcal{Normal}(\\mu_{\\xi_{\\ell}}, \\sigma_{\\xi_{\\ell}})\\\\\n",
    "\\log\\tau_{\\ell} &\\sim \\mathcal{Normal}(\\mu_{\\tau_{\\ell}},\\sigma_{\\tau_{\\ell}})\n",
    "\\end{aligned}\n",
    "$$"
   ]
  },
  {
   "cell_type": "markdown",
   "id": "44107490",
   "metadata": {},
   "source": [
    "**Variational Parameters**"
   ]
  },
  {
   "cell_type": "code",
   "execution_count": 16,
   "id": "eb562574",
   "metadata": {},
   "outputs": [],
   "source": [
    "q_nu_mu    = tf.Variable(tf.random.normal([J-1], dtype = np.float64), name = 'q_nu_mu')\n",
    "q_nu_sd    = tf.Variable(tf.random.normal([J-1], dtype = np.float64), name = 'q_nu_sd')\n",
    "q_alpha_mu = tf.Variable(tf.random.normal([J,D], dtype = np.float64), name = 'q_alpha_mu')\n",
    "q_alpha_sd = tf.Variable(tf.random.normal([J,D], dtype = np.float64), name = 'q_alpha_sd')\n",
    "q_xi_mu    = tf.Variable(tf.random.normal([D],   dtype = np.float64), name = 'q_xi_mu')\n",
    "q_xi_sd    = tf.Variable(tf.random.normal([D],   dtype = np.float64), name = 'q_xi_sd')\n",
    "q_tau_mu   = tf.Variable(tf.random.normal([D],   dtype = np.float64), name = 'q_tau_mu')\n",
    "q_tau_sd   = tf.Variable(tf.random.normal([D],   dtype = np.float64), name = 'q_tau_sd')"
   ]
  },
  {
   "cell_type": "markdown",
   "id": "daf61edc",
   "metadata": {},
   "source": [
    "**Surrogate Posterior**"
   ]
  },
  {
   "cell_type": "code",
   "execution_count": 17,
   "id": "e3de103c",
   "metadata": {},
   "outputs": [],
   "source": [
    "surrogate_posterior = tfd.JointDistributionNamed(dict(\n",
    "    xi = tfd.Independent(tfd.LogNormal(q_xi_mu, tf.nn.softplus(q_xi_sd)), reinterpreted_batch_ndims = 1),\n",
    "    tau = tfd.Independent(tfd.LogNormal(q_tau_mu, tf.nn.softplus(q_tau_sd)), reinterpreted_batch_ndims = 1),\n",
    "    nu = tfd.Independent(tfd.LogitNormal(q_nu_mu, tf.nn.softplus(q_nu_sd)), reinterpreted_batch_ndims = 1),\n",
    "    alpha = tfd.Independent(tfd.LogNormal(q_alpha_mu, tf.nn.softplus(q_alpha_sd)), reinterpreted_batch_ndims = 2),\n",
    "    ))\n",
    "s = surrogate_posterior.sample(100)\n",
    "p = target_log_prob_fn(**s)"
   ]
  },
  {
   "cell_type": "code",
   "execution_count": 18,
   "id": "20505faf",
   "metadata": {},
   "outputs": [],
   "source": [
    "def run_advi(optimizer, sample_size=50, num_steps=10000, seed=1):\n",
    "    return tfp.vi.fit_surrogate_posterior(\n",
    "        target_log_prob_fn=target_log_prob_fn,\n",
    "        surrogate_posterior=surrogate_posterior,\n",
    "        optimizer=optimizer,\n",
    "        sample_size=sample_size,\n",
    "        seed=seed, num_steps=num_steps)  # 200, 2000\n",
    "\n",
    "opt = tf.optimizers.Adam(learning_rate=1e-2)\n",
    "losses = run_advi(opt, sample_size=1)"
   ]
  },
  {
   "cell_type": "markdown",
   "id": "8dbcc1fd",
   "metadata": {},
   "source": [
    "#### Learning"
   ]
  },
  {
   "cell_type": "code",
   "execution_count": 19,
   "id": "85bcc5bb",
   "metadata": {},
   "outputs": [
    {
     "data": {
      "text/plain": [
       "Text(0, 0.5, 'ELBO')"
      ]
     },
     "execution_count": 19,
     "metadata": {},
     "output_type": "execute_result"
    },
    {
     "data": {
      "image/png": "[encoded data removed]",
      "text/plain": [
       "<Figure size 640x480 with 1 Axes>"
      ]
     },
     "metadata": {},
     "output_type": "display_data"
    }
   ],
   "source": [
    "plt.plot(losses.numpy())\n",
    "plt.xlabel('Optimizer Iteration')\n",
    "plt.ylabel('ELBO')"
   ]
  },
  {
   "cell_type": "code",
   "execution_count": 20,
   "id": "bd5d75af",
   "metadata": {},
   "outputs": [],
   "source": [
    "s = surrogate_posterior.sample(1000)"
   ]
  },
  {
   "cell_type": "code",
   "execution_count": 40,
   "id": "afb23b58",
   "metadata": {},
   "outputs": [
    {
     "data": {
      "text/plain": [
       "{'whiskers': [<matplotlib.lines.Line2D at 0x7f2329dedbe0>,\n",
       "  <matplotlib.lines.Line2D at 0x7f2329dfa160>,\n",
       "  <matplotlib.lines.Line2D at 0x7f2329e14160>,\n",
       "  <matplotlib.lines.Line2D at 0x7f2329e146a0>,\n",
       "  <matplotlib.lines.Line2D at 0x7f2329e286a0>,\n",
       "  <matplotlib.lines.Line2D at 0x7f2329e28be0>,\n",
       "  <matplotlib.lines.Line2D at 0x7f2329e80760>,\n",
       "  <matplotlib.lines.Line2D at 0x7f2329e80ca0>,\n",
       "  <matplotlib.lines.Line2D at 0x7f2329e96ca0>,\n",
       "  <matplotlib.lines.Line2D at 0x7f2329ea1220>],\n",
       " 'caps': [<matplotlib.lines.Line2D at 0x7f2329dfa6a0>,\n",
       "  <matplotlib.lines.Line2D at 0x7f2329dfabe0>,\n",
       "  <matplotlib.lines.Line2D at 0x7f2329e14be0>,\n",
       "  <matplotlib.lines.Line2D at 0x7f2329e1d160>,\n",
       "  <matplotlib.lines.Line2D at 0x7f2329e33160>,\n",
       "  <matplotlib.lines.Line2D at 0x7f2329e336a0>,\n",
       "  <matplotlib.lines.Line2D at 0x7f2329e8b220>,\n",
       "  <matplotlib.lines.Line2D at 0x7f2329e8b760>,\n",
       "  <matplotlib.lines.Line2D at 0x7f2329ea1760>,\n",
       "  <matplotlib.lines.Line2D at 0x7f2329ea1ca0>],\n",
       " 'boxes': [<matplotlib.lines.Line2D at 0x7f2329ded6a0>,\n",
       "  <matplotlib.lines.Line2D at 0x7f2329e0cbe0>,\n",
       "  <matplotlib.lines.Line2D at 0x7f2329e28160>,\n",
       "  <matplotlib.lines.Line2D at 0x7f2329e42f70>,\n",
       "  <matplotlib.lines.Line2D at 0x7f2329e96760>],\n",
       " 'medians': [<matplotlib.lines.Line2D at 0x7f2329e0c160>,\n",
       "  <matplotlib.lines.Line2D at 0x7f2329e1d6a0>,\n",
       "  <matplotlib.lines.Line2D at 0x7f2329e33be0>,\n",
       "  <matplotlib.lines.Line2D at 0x7f2329e8bca0>,\n",
       "  <matplotlib.lines.Line2D at 0x7f2329eab220>],\n",
       " 'fliers': [<matplotlib.lines.Line2D at 0x7f2329e0c6a0>,\n",
       "  <matplotlib.lines.Line2D at 0x7f2329e1dbe0>,\n",
       "  <matplotlib.lines.Line2D at 0x7f2329e80160>,\n",
       "  <matplotlib.lines.Line2D at 0x7f2329e96220>,\n",
       "  <matplotlib.lines.Line2D at 0x7f2329eab760>],\n",
       " 'means': []}"
      ]
     },
     "execution_count": 40,
     "metadata": {},
     "output_type": "execute_result"
    },
    {
     "data": {
      "image/png": "[encoded data removed]",
      "text/plain": [
       "<Figure size 640x480 with 1 Axes>"
      ]
     },
     "metadata": {},
     "output_type": "display_data"
    }
   ],
   "source": [
    "plt.boxplot(s['xi'].numpy())"
   ]
  },
  {
   "cell_type": "code",
   "execution_count": 41,
   "id": "7e8bfdf2",
   "metadata": {},
   "outputs": [
    {
     "data": {
      "text/plain": [
       "{'whiskers': [<matplotlib.lines.Line2D at 0x7f2329d5a3d0>,\n",
       "  <matplotlib.lines.Line2D at 0x7f2329d5a670>,\n",
       "  <matplotlib.lines.Line2D at 0x7f2329d68670>,\n",
       "  <matplotlib.lines.Line2D at 0x7f2329d68910>,\n",
       "  <matplotlib.lines.Line2D at 0x7f2329d759a0>,\n",
       "  <matplotlib.lines.Line2D at 0x7f2329d75c40>,\n",
       "  <matplotlib.lines.Line2D at 0x7f2329cc4bb0>,\n",
       "  <matplotlib.lines.Line2D at 0x7f2329cc4e50>,\n",
       "  <matplotlib.lines.Line2D at 0x7f2329cd1e50>,\n",
       "  <matplotlib.lines.Line2D at 0x7f2329cde130>],\n",
       " 'caps': [<matplotlib.lines.Line2D at 0x7f2329d5a910>,\n",
       "  <matplotlib.lines.Line2D at 0x7f2329d5abb0>,\n",
       "  <matplotlib.lines.Line2D at 0x7f2329d68bb0>,\n",
       "  <matplotlib.lines.Line2D at 0x7f2329d68e50>,\n",
       "  <matplotlib.lines.Line2D at 0x7f2329d75ee0>,\n",
       "  <matplotlib.lines.Line2D at 0x7f2329cc4130>,\n",
       "  <matplotlib.lines.Line2D at 0x7f2329cd1130>,\n",
       "  <matplotlib.lines.Line2D at 0x7f2329cd13d0>,\n",
       "  <matplotlib.lines.Line2D at 0x7f2329cde3d0>,\n",
       "  <matplotlib.lines.Line2D at 0x7f2329cde670>],\n",
       " 'boxes': [<matplotlib.lines.Line2D at 0x7f2329d5a130>,\n",
       "  <matplotlib.lines.Line2D at 0x7f2329d683d0>,\n",
       "  <matplotlib.lines.Line2D at 0x7f2329d75700>,\n",
       "  <matplotlib.lines.Line2D at 0x7f2329cc4910>,\n",
       "  <matplotlib.lines.Line2D at 0x7f2329cd1bb0>],\n",
       " 'medians': [<matplotlib.lines.Line2D at 0x7f2329d5ae50>,\n",
       "  <matplotlib.lines.Line2D at 0x7f2329d751c0>,\n",
       "  <matplotlib.lines.Line2D at 0x7f2329cc43d0>,\n",
       "  <matplotlib.lines.Line2D at 0x7f2329cd1670>,\n",
       "  <matplotlib.lines.Line2D at 0x7f2329cde910>],\n",
       " 'fliers': [<matplotlib.lines.Line2D at 0x7f2329d68130>,\n",
       "  <matplotlib.lines.Line2D at 0x7f2329d75460>,\n",
       "  <matplotlib.lines.Line2D at 0x7f2329cc4670>,\n",
       "  <matplotlib.lines.Line2D at 0x7f2329cd1910>,\n",
       "  <matplotlib.lines.Line2D at 0x7f2329cdebb0>],\n",
       " 'means': []}"
      ]
     },
     "execution_count": 41,
     "metadata": {},
     "output_type": "execute_result"
    },
    {
     "data": {
      "image/png": "[encoded data removed]",
      "text/plain": [
       "<Figure size 640x480 with 1 Axes>"
      ]
     },
     "metadata": {},
     "output_type": "display_data"
    }
   ],
   "source": [
    "plt.boxplot(s['tau'].numpy())"
   ]
  },
  {
   "cell_type": "code",
   "execution_count": 44,
   "id": "0a6f54c8",
   "metadata": {},
   "outputs": [
    {
     "data": {
      "text/plain": [
       "{'whiskers': [<matplotlib.lines.Line2D at 0x7f23298485b0>,\n",
       "  <matplotlib.lines.Line2D at 0x7f2329848850>,\n",
       "  <matplotlib.lines.Line2D at 0x7f2329857850>,\n",
       "  <matplotlib.lines.Line2D at 0x7f2329857af0>,\n",
       "  <matplotlib.lines.Line2D at 0x7f2329863af0>,\n",
       "  <matplotlib.lines.Line2D at 0x7f2329863d90>,\n",
       "  <matplotlib.lines.Line2D at 0x7f232986ed90>,\n",
       "  <matplotlib.lines.Line2D at 0x7f2329800070>,\n",
       "  <matplotlib.lines.Line2D at 0x7f232980c070>,\n",
       "  <matplotlib.lines.Line2D at 0x7f232980c310>,\n",
       "  <matplotlib.lines.Line2D at 0x7f232981b310>,\n",
       "  <matplotlib.lines.Line2D at 0x7f232981b5b0>,\n",
       "  <matplotlib.lines.Line2D at 0x7f232982b5b0>,\n",
       "  <matplotlib.lines.Line2D at 0x7f232982b850>,\n",
       "  <matplotlib.lines.Line2D at 0x7f2329838850>,\n",
       "  <matplotlib.lines.Line2D at 0x7f2329838af0>,\n",
       "  <matplotlib.lines.Line2D at 0x7f23297c5af0>,\n",
       "  <matplotlib.lines.Line2D at 0x7f23297c5d90>,\n",
       "  <matplotlib.lines.Line2D at 0x7f23297d4d90>,\n",
       "  <matplotlib.lines.Line2D at 0x7f23297e2070>,\n",
       "  <matplotlib.lines.Line2D at 0x7f23297f1070>,\n",
       "  <matplotlib.lines.Line2D at 0x7f23297f1310>,\n",
       "  <matplotlib.lines.Line2D at 0x7f232977f310>,\n",
       "  <matplotlib.lines.Line2D at 0x7f232977f5b0>,\n",
       "  <matplotlib.lines.Line2D at 0x7f232978e5b0>,\n",
       "  <matplotlib.lines.Line2D at 0x7f232978e850>,\n",
       "  <matplotlib.lines.Line2D at 0x7f232979c730>,\n",
       "  <matplotlib.lines.Line2D at 0x7f232979c9d0>,\n",
       "  <matplotlib.lines.Line2D at 0x7f23297aa9d0>,\n",
       "  <matplotlib.lines.Line2D at 0x7f23297aac70>,\n",
       "  <matplotlib.lines.Line2D at 0x7f23297b8c70>,\n",
       "  <matplotlib.lines.Line2D at 0x7f23297b8f10>,\n",
       "  <matplotlib.lines.Line2D at 0x7f2329747f10>,\n",
       "  <matplotlib.lines.Line2D at 0x7f23297571f0>,\n",
       "  <matplotlib.lines.Line2D at 0x7f23297651f0>,\n",
       "  <matplotlib.lines.Line2D at 0x7f2329765490>,\n",
       "  <matplotlib.lines.Line2D at 0x7f2329772490>,\n",
       "  <matplotlib.lines.Line2D at 0x7f2329772730>,\n",
       "  <matplotlib.lines.Line2D at 0x7f2329700730>,\n",
       "  <matplotlib.lines.Line2D at 0x7f23297009d0>],\n",
       " 'caps': [<matplotlib.lines.Line2D at 0x7f2329848af0>,\n",
       "  <matplotlib.lines.Line2D at 0x7f2329848d90>,\n",
       "  <matplotlib.lines.Line2D at 0x7f2329857d90>,\n",
       "  <matplotlib.lines.Line2D at 0x7f2329863070>,\n",
       "  <matplotlib.lines.Line2D at 0x7f232986e070>,\n",
       "  <matplotlib.lines.Line2D at 0x7f232986e310>,\n",
       "  <matplotlib.lines.Line2D at 0x7f2329800310>,\n",
       "  <matplotlib.lines.Line2D at 0x7f23298005b0>,\n",
       "  <matplotlib.lines.Line2D at 0x7f232980c5b0>,\n",
       "  <matplotlib.lines.Line2D at 0x7f232980c850>,\n",
       "  <matplotlib.lines.Line2D at 0x7f232981b850>,\n",
       "  <matplotlib.lines.Line2D at 0x7f232981baf0>,\n",
       "  <matplotlib.lines.Line2D at 0x7f232982baf0>,\n",
       "  <matplotlib.lines.Line2D at 0x7f232982bd90>,\n",
       "  <matplotlib.lines.Line2D at 0x7f2329838d90>,\n",
       "  <matplotlib.lines.Line2D at 0x7f23297c5070>,\n",
       "  <matplotlib.lines.Line2D at 0x7f23297d4070>,\n",
       "  <matplotlib.lines.Line2D at 0x7f23297d4310>,\n",
       "  <matplotlib.lines.Line2D at 0x7f23297e2310>,\n",
       "  <matplotlib.lines.Line2D at 0x7f23297e25b0>,\n",
       "  <matplotlib.lines.Line2D at 0x7f23297f15b0>,\n",
       "  <matplotlib.lines.Line2D at 0x7f23297f1850>,\n",
       "  <matplotlib.lines.Line2D at 0x7f232977f850>,\n",
       "  <matplotlib.lines.Line2D at 0x7f232977faf0>,\n",
       "  <matplotlib.lines.Line2D at 0x7f232978eaf0>,\n",
       "  <matplotlib.lines.Line2D at 0x7f232978ed90>,\n",
       "  <matplotlib.lines.Line2D at 0x7f232979cc70>,\n",
       "  <matplotlib.lines.Line2D at 0x7f232979cf10>,\n",
       "  <matplotlib.lines.Line2D at 0x7f23297aaf10>,\n",
       "  <matplotlib.lines.Line2D at 0x7f23297b81f0>,\n",
       "  <matplotlib.lines.Line2D at 0x7f23297471f0>,\n",
       "  <matplotlib.lines.Line2D at 0x7f2329747490>,\n",
       "  <matplotlib.lines.Line2D at 0x7f2329757490>,\n",
       "  <matplotlib.lines.Line2D at 0x7f2329757730>,\n",
       "  <matplotlib.lines.Line2D at 0x7f2329765730>,\n",
       "  <matplotlib.lines.Line2D at 0x7f23297659d0>,\n",
       "  <matplotlib.lines.Line2D at 0x7f23297729d0>,\n",
       "  <matplotlib.lines.Line2D at 0x7f2329772c70>,\n",
       "  <matplotlib.lines.Line2D at 0x7f2329700c70>,\n",
       "  <matplotlib.lines.Line2D at 0x7f2329700f10>],\n",
       " 'boxes': [<matplotlib.lines.Line2D at 0x7f2329848310>,\n",
       "  <matplotlib.lines.Line2D at 0x7f23298575b0>,\n",
       "  <matplotlib.lines.Line2D at 0x7f2329863850>,\n",
       "  <matplotlib.lines.Line2D at 0x7f232986eaf0>,\n",
       "  <matplotlib.lines.Line2D at 0x7f2329800d90>,\n",
       "  <matplotlib.lines.Line2D at 0x7f232981b070>,\n",
       "  <matplotlib.lines.Line2D at 0x7f232982b310>,\n",
       "  <matplotlib.lines.Line2D at 0x7f23298385b0>,\n",
       "  <matplotlib.lines.Line2D at 0x7f23297c5850>,\n",
       "  <matplotlib.lines.Line2D at 0x7f23297d4af0>,\n",
       "  <matplotlib.lines.Line2D at 0x7f23297e2d90>,\n",
       "  <matplotlib.lines.Line2D at 0x7f232977f070>,\n",
       "  <matplotlib.lines.Line2D at 0x7f232978e310>,\n",
       "  <matplotlib.lines.Line2D at 0x7f232979c490>,\n",
       "  <matplotlib.lines.Line2D at 0x7f23297aa730>,\n",
       "  <matplotlib.lines.Line2D at 0x7f23297b89d0>,\n",
       "  <matplotlib.lines.Line2D at 0x7f2329747c70>,\n",
       "  <matplotlib.lines.Line2D at 0x7f2329757f10>,\n",
       "  <matplotlib.lines.Line2D at 0x7f23297721f0>,\n",
       "  <matplotlib.lines.Line2D at 0x7f2329700490>],\n",
       " 'medians': [<matplotlib.lines.Line2D at 0x7f2329857070>,\n",
       "  <matplotlib.lines.Line2D at 0x7f2329863310>,\n",
       "  <matplotlib.lines.Line2D at 0x7f232986e5b0>,\n",
       "  <matplotlib.lines.Line2D at 0x7f2329800850>,\n",
       "  <matplotlib.lines.Line2D at 0x7f232980caf0>,\n",
       "  <matplotlib.lines.Line2D at 0x7f232981bd90>,\n",
       "  <matplotlib.lines.Line2D at 0x7f2329838070>,\n",
       "  <matplotlib.lines.Line2D at 0x7f23297c5310>,\n",
       "  <matplotlib.lines.Line2D at 0x7f23297d45b0>,\n",
       "  <matplotlib.lines.Line2D at 0x7f23297e2850>,\n",
       "  <matplotlib.lines.Line2D at 0x7f23297f1af0>,\n",
       "  <matplotlib.lines.Line2D at 0x7f232977fd90>,\n",
       "  <matplotlib.lines.Line2D at 0x7f232978ef10>,\n",
       "  <matplotlib.lines.Line2D at 0x7f23297aa1f0>,\n",
       "  <matplotlib.lines.Line2D at 0x7f23297b8490>,\n",
       "  <matplotlib.lines.Line2D at 0x7f2329747730>,\n",
       "  <matplotlib.lines.Line2D at 0x7f23297579d0>,\n",
       "  <matplotlib.lines.Line2D at 0x7f2329765c70>,\n",
       "  <matplotlib.lines.Line2D at 0x7f2329772f10>,\n",
       "  <matplotlib.lines.Line2D at 0x7f232970e1f0>],\n",
       " 'fliers': [<matplotlib.lines.Line2D at 0x7f2329857310>,\n",
       "  <matplotlib.lines.Line2D at 0x7f23298635b0>,\n",
       "  <matplotlib.lines.Line2D at 0x7f232986e850>,\n",
       "  <matplotlib.lines.Line2D at 0x7f2329800af0>,\n",
       "  <matplotlib.lines.Line2D at 0x7f232980cd90>,\n",
       "  <matplotlib.lines.Line2D at 0x7f232982b070>,\n",
       "  <matplotlib.lines.Line2D at 0x7f2329838310>,\n",
       "  <matplotlib.lines.Line2D at 0x7f23297c55b0>,\n",
       "  <matplotlib.lines.Line2D at 0x7f23297d4850>,\n",
       "  <matplotlib.lines.Line2D at 0x7f23297e2af0>,\n",
       "  <matplotlib.lines.Line2D at 0x7f23297f1d90>,\n",
       "  <matplotlib.lines.Line2D at 0x7f232978e070>,\n",
       "  <matplotlib.lines.Line2D at 0x7f232979c1f0>,\n",
       "  <matplotlib.lines.Line2D at 0x7f23297aa490>,\n",
       "  <matplotlib.lines.Line2D at 0x7f23297b8730>,\n",
       "  <matplotlib.lines.Line2D at 0x7f23297479d0>,\n",
       "  <matplotlib.lines.Line2D at 0x7f2329757c70>,\n",
       "  <matplotlib.lines.Line2D at 0x7f2329765f10>,\n",
       "  <matplotlib.lines.Line2D at 0x7f23297001f0>,\n",
       "  <matplotlib.lines.Line2D at 0x7f232970e490>],\n",
       " 'means': []}"
      ]
     },
     "execution_count": 44,
     "metadata": {},
     "output_type": "execute_result"
    },
    {
     "data": {
      "image/png": "[encoded data removed]",
      "text/plain": [
       "<Figure size 640x480 with 1 Axes>"
      ]
     },
     "metadata": {},
     "output_type": "display_data"
    }
   ],
   "source": [
    "plt.boxplot(stickbreak(s['nu']).numpy())"
   ]
  },
  {
   "cell_type": "code",
   "execution_count": 55,
   "id": "dbce80b0",
   "metadata": {},
   "outputs": [
    {
     "data": {
      "text/plain": [
       "{'whiskers': [<matplotlib.lines.Line2D at 0x7f2328e87640>,\n",
       "  <matplotlib.lines.Line2D at 0x7f2328e878e0>,\n",
       "  <matplotlib.lines.Line2D at 0x7f2328e958e0>,\n",
       "  <matplotlib.lines.Line2D at 0x7f2328e95b80>,\n",
       "  <matplotlib.lines.Line2D at 0x7f2328ea1b80>,\n",
       "  <matplotlib.lines.Line2D at 0x7f2328ea1e20>,\n",
       "  <matplotlib.lines.Line2D at 0x7f2328eafe20>,\n",
       "  <matplotlib.lines.Line2D at 0x7f2328e3f100>,\n",
       "  <matplotlib.lines.Line2D at 0x7f2328e4d100>,\n",
       "  <matplotlib.lines.Line2D at 0x7f2328e4d3a0>],\n",
       " 'caps': [<matplotlib.lines.Line2D at 0x7f2328e87b80>,\n",
       "  <matplotlib.lines.Line2D at 0x7f2328e87e20>,\n",
       "  <matplotlib.lines.Line2D at 0x7f2328e95e20>,\n",
       "  <matplotlib.lines.Line2D at 0x7f2328ea1100>,\n",
       "  <matplotlib.lines.Line2D at 0x7f2328eaf100>,\n",
       "  <matplotlib.lines.Line2D at 0x7f2328eaf3a0>,\n",
       "  <matplotlib.lines.Line2D at 0x7f2328e3f3a0>,\n",
       "  <matplotlib.lines.Line2D at 0x7f2328e3f640>,\n",
       "  <matplotlib.lines.Line2D at 0x7f2328e4d640>,\n",
       "  <matplotlib.lines.Line2D at 0x7f2328e4d8e0>],\n",
       " 'boxes': [<matplotlib.lines.Line2D at 0x7f2328e873a0>,\n",
       "  <matplotlib.lines.Line2D at 0x7f2328e95640>,\n",
       "  <matplotlib.lines.Line2D at 0x7f2328ea18e0>,\n",
       "  <matplotlib.lines.Line2D at 0x7f2328eafb80>,\n",
       "  <matplotlib.lines.Line2D at 0x7f2328e3fe20>],\n",
       " 'medians': [<matplotlib.lines.Line2D at 0x7f2328e95100>,\n",
       "  <matplotlib.lines.Line2D at 0x7f2328ea13a0>,\n",
       "  <matplotlib.lines.Line2D at 0x7f2328eaf640>,\n",
       "  <matplotlib.lines.Line2D at 0x7f2328e3f8e0>,\n",
       "  <matplotlib.lines.Line2D at 0x7f2328e4db80>],\n",
       " 'fliers': [<matplotlib.lines.Line2D at 0x7f2328e953a0>,\n",
       "  <matplotlib.lines.Line2D at 0x7f2328ea1640>,\n",
       "  <matplotlib.lines.Line2D at 0x7f2328eaf8e0>,\n",
       "  <matplotlib.lines.Line2D at 0x7f2328e3fb80>,\n",
       "  <matplotlib.lines.Line2D at 0x7f2328e4de20>],\n",
       " 'means': []}"
      ]
     },
     "execution_count": 55,
     "metadata": {},
     "output_type": "execute_result"
    },
    {
     "data": {
      "image/png": "[encoded data removed]",
      "text/plain": [
       "<Figure size 640x480 with 1 Axes>"
      ]
     },
     "metadata": {},
     "output_type": "display_data"
    }
   ],
   "source": [
    "plt.boxplot(s['alpha'].numpy()[:,0])"
   ]
  }
 ],
 "metadata": {
  "kernelspec": {
   "display_name": "Python 3 (ipykernel)",
   "language": "python",
   "name": "python3"
  },
  "language_info": {
   "codemirror_mode": {
    "name": "ipython",
    "version": 3
   },
   "file_extension": ".py",
   "mimetype": "text/x-python",
   "name": "python",
   "nbconvert_exporter": "python",
   "pygments_lexer": "ipython3",
   "version": "3.9.16"
  }
 },
 "nbformat": 4,
 "nbformat_minor": 5
}
