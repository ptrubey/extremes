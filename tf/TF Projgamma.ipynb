{
 "cells": [
  {
   "cell_type": "code",
   "execution_count": 1,
   "id": "8e7ae8c6",
   "metadata": {},
   "outputs": [],
   "source": [
    "import silence_tensorflow.auto\n",
    "import json\n",
    "import numpy as np\n",
    "import matplotlib.pyplot as plt\n",
    "import tensorflow as tf\n",
    "import tensorflow_probability as tfp\n",
    "from tensorflow_probability import distributions as tfd\n",
    "from tensorflow_probability import bijectors as tfb\n",
    "from numpy.random import gamma\n",
    "\n",
    "from tfprojgamma import ProjectedGamma\n",
    "\n",
    "# Set random seeds for reproducibility\n",
    "np.random.seed(1)\n",
    "tf.random.set_seed(1)"
   ]
  },
  {
   "cell_type": "code",
   "execution_count": 2,
   "id": "6fa4c3ee",
   "metadata": {},
   "outputs": [],
   "source": [
    "# Stickbreak function\n",
    "def stickbreak(v):\n",
    "    batch_ndims = len(v.shape) - 1\n",
    "    cumprod_one_minus_v = tf.math.cumprod(1 - v, axis=-1)\n",
    "    one_v = tf.pad(v, [[0, 0]] * batch_ndims + [[0, 1]], \"CONSTANT\", constant_values=1)\n",
    "    c_one = tf.pad(cumprod_one_minus_v, [[0, 0]] * batch_ndims + [[1, 0]], \"CONSTANT\", constant_values=1)\n",
    "    return one_v * c_one"
   ]
  },
  {
   "cell_type": "code",
   "execution_count": null,
   "id": "0c627083",
   "metadata": {},
   "outputs": [],
   "source": [
    "def create_model(nDat, nCol, nClust, dtype=np.float32):\n",
    "    return tfd.JointDistributionNamed(dict(\n",
    "        # Hierarchical mean\n",
    "        mu = tfd.MultivariateNormalTriL(loc = np.zeros(nCol, dtype) , scale = Lu)\n",
    "        Lu = tfd.WishartTriL(df = nCol + 10, scale_tril = np.eye(nCol, dtype = dtype) * np.sqrt(nCol + 10))\n",
    "        \n",
    "        # Mixture log-shapes\n",
    "        logalpha = tfd.Independent(\n",
    "            tfd.MultivariateNormalTriL(loc = mu, scale_tril = Lu),\n",
    "            reinterpreted_batch_ndims=1\n",
    "            ),\n",
    "        \n",
    "        # Mixture weights (stick-breaking construction)\n",
    "        alpha = tfd.Gamma(concentration=np.float64(1.0), rate=10.0),\n",
    "        \n",
    "        v = lambda alpha: tfd.Independent(\n",
    "            tfd.Beta(np.ones(nClust - 1, dtype), tf.expand_dims(alpha,-1)),\n",
    "            reinterpreted_batch_ndims = 1,\n",
    "            ),\n",
    "        \n",
    "        # Observations (likelihood)\n",
    "        obs = lambda logalpha, v: tfd.Sample(\n",
    "            tfd.MixtureSameFamily(\n",
    "                mixture_distribution = tfd.Categorical(probs=stickbreak(v)),\n",
    "                components_distribution = ProjectedGamma(tf.exp(logalpha)),\n",
    "                ),\n",
    "            sample_shape = nDat,\n",
    "            )\n",
    "    ))"
   ]
  },
  {
   "cell_type": "code",
   "execution_count": null,
   "id": "97604259",
   "metadata": {},
   "outputs": [],
   "source": [
    "ncomponents = 10\n",
    "\n",
    "\n",
    "\n"
   ]
  },
  {
   "cell_type": "code",
   "execution_count": null,
   "id": "a8e8e3d0",
   "metadata": {},
   "outputs": [],
   "source": [
    "model = create_dp_sb_gmm(nobs=len(simdata['y']), K=ncomponents)\n",
    "# Define log unnormalized joint posterior density.\n",
    "def target_log_prob_fn(mu, sigma, alpha, v):\n",
    "    return model.log_prob(obs=y, mu=mu, sigma=sigma, alpha=alpha, v=v)\n"
   ]
  },
  {
   "cell_type": "code",
   "execution_count": null,
   "id": "0c73a43a",
   "metadata": {},
   "outputs": [],
   "source": []
  }
 ],
 "metadata": {
  "kernelspec": {
   "display_name": "Python 3 (ipykernel)",
   "language": "python",
   "name": "python3"
  },
  "language_info": {
   "codemirror_mode": {
    "name": "ipython",
    "version": 3
   },
   "file_extension": ".py",
   "mimetype": "text/x-python",
   "name": "python",
   "nbconvert_exporter": "python",
   "pygments_lexer": "ipython3",
   "version": "3.9.16"
  }
 },
 "nbformat": 4,
 "nbformat_minor": 5
}
